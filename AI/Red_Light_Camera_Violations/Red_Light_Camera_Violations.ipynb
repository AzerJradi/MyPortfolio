{
  "cells": [
    {
      "cell_type": "code",
      "execution_count": null,
      "metadata": {
        "colab": {
          "base_uri": "https://localhost:8080/"
        },
        "id": "JcCIhfIyT2lE",
        "outputId": "77b83133-2efb-47ab-fe21-518ee74f60f3"
      },
      "outputs": [
        {
          "name": "stdout",
          "output_type": "stream",
          "text": [
            "Drive already mounted at /content/drive; to attempt to forcibly remount, call drive.mount(\"/content/drive\", force_remount=True).\n"
          ]
        }
      ],
      "source": [
        "from google.colab import drive\n",
        "drive.mount('/content/drive')"
      ]
    },
    {
      "cell_type": "code",
      "execution_count": null,
      "metadata": {
        "id": "IwjSQluIUKXf"
      },
      "outputs": [],
      "source": [
        "import pandas as pd\n",
        "import plotly.express as px\n",
        "import numpy as np\n",
        "import lightgbm as lgb\n",
        "from sklearn.ensemble import GradientBoostingRegressor\n",
        "from sklearn.linear_model import LinearRegression\n",
        "from sklearn.svm import SVC\n",
        "from sklearn.svm import SVR\n",
        "from sklearn.metrics import mean_squared_error, r2_score\n",
        "from sklearn.ensemble import GradientBoostingClassifier\n",
        "from sklearn.preprocessing import LabelEncoder\n",
        "from sklearn.metrics import accuracy_score, confusion_matrix, classification_report\n",
        "from sklearn.model_selection import train_test_split\n",
        "from sklearn.linear_model import LogisticRegression\n",
        "import seaborn as sns\n",
        "from sklearn.neighbors import KNeighborsClassifier\n",
        "import matplotlib.pyplot as plt\n",
        "from sklearn.metrics import roc_curve, auc\n",
        "from sklearn.tree import DecisionTreeClassifier\n",
        "from sklearn.tree import export_graphviz\n",
        "import graphviz\n",
        "from sklearn.ensemble import RandomForestClassifier\n",
        "from sklearn.tree import export_text\n",
        "from sklearn.tree import plot_tree\n",
        "from sklearn.datasets import load_iris\n",
        "from sklearn.preprocessing import label_binarize\n",
        "import pickle"
      ]
    },
    {
      "cell_type": "code",
      "execution_count": null,
      "metadata": {
        "colab": {
          "base_uri": "https://localhost:8080/",
          "height": 206
        },
        "id": "h0iLf06wUMt8",
        "outputId": "e7a1ac64-c562-4880-c998-f2a6ed73ea21"
      },
      "outputs": [
        {
          "data": {
            "application/vnd.google.colaboratory.intrinsic+json": {
              "type": "dataframe",
              "variable_name": "df"
            },
            "text/html": [
              "\n",
              "  <div id=\"df-a1a0fcb2-c6d8-43f0-b2eb-87d8efe1cae2\" class=\"colab-df-container\">\n",
              "    <div>\n",
              "<style scoped>\n",
              "    .dataframe tbody tr th:only-of-type {\n",
              "        vertical-align: middle;\n",
              "    }\n",
              "\n",
              "    .dataframe tbody tr th {\n",
              "        vertical-align: top;\n",
              "    }\n",
              "\n",
              "    .dataframe thead th {\n",
              "        text-align: right;\n",
              "    }\n",
              "</style>\n",
              "<table border=\"1\" class=\"dataframe\">\n",
              "  <thead>\n",
              "    <tr style=\"text-align: right;\">\n",
              "      <th></th>\n",
              "      <th>INTERSECTION</th>\n",
              "      <th>CAMERA ID</th>\n",
              "      <th>ADDRESS</th>\n",
              "      <th>VIOLATION DATE</th>\n",
              "      <th>VIOLATIONS</th>\n",
              "      <th>X COORDINATE</th>\n",
              "      <th>Y COORDINATE</th>\n",
              "      <th>LATITUDE</th>\n",
              "      <th>LONGITUDE</th>\n",
              "      <th>LOCATION</th>\n",
              "    </tr>\n",
              "  </thead>\n",
              "  <tbody>\n",
              "    <tr>\n",
              "      <th>0</th>\n",
              "      <td>IRVING PARK AND KILPATRICK</td>\n",
              "      <td>2763.0</td>\n",
              "      <td>4700 W IRVING PARK ROA</td>\n",
              "      <td>04/09/2015</td>\n",
              "      <td>4</td>\n",
              "      <td>NaN</td>\n",
              "      <td>NaN</td>\n",
              "      <td>NaN</td>\n",
              "      <td>NaN</td>\n",
              "      <td>NaN</td>\n",
              "    </tr>\n",
              "    <tr>\n",
              "      <th>1</th>\n",
              "      <td>VAN BUREN AND WESTERN</td>\n",
              "      <td>2054.0</td>\n",
              "      <td>2400 W VAN BUREN STREE</td>\n",
              "      <td>04/14/2015</td>\n",
              "      <td>5</td>\n",
              "      <td>NaN</td>\n",
              "      <td>NaN</td>\n",
              "      <td>NaN</td>\n",
              "      <td>NaN</td>\n",
              "      <td>NaN</td>\n",
              "    </tr>\n",
              "    <tr>\n",
              "      <th>2</th>\n",
              "      <td>115TH AND HALSTED</td>\n",
              "      <td>2552.0</td>\n",
              "      <td>11500 S HALSTED STREE</td>\n",
              "      <td>04/08/2015</td>\n",
              "      <td>5</td>\n",
              "      <td>NaN</td>\n",
              "      <td>NaN</td>\n",
              "      <td>NaN</td>\n",
              "      <td>NaN</td>\n",
              "      <td>NaN</td>\n",
              "    </tr>\n",
              "    <tr>\n",
              "      <th>3</th>\n",
              "      <td>IRVING PARK AND KILPATRICK</td>\n",
              "      <td>2764.0</td>\n",
              "      <td>4700 W IRVING PARK ROA</td>\n",
              "      <td>04/19/2015</td>\n",
              "      <td>4</td>\n",
              "      <td>NaN</td>\n",
              "      <td>NaN</td>\n",
              "      <td>NaN</td>\n",
              "      <td>NaN</td>\n",
              "      <td>NaN</td>\n",
              "    </tr>\n",
              "    <tr>\n",
              "      <th>4</th>\n",
              "      <td>ELSTON AND IRVING PARK</td>\n",
              "      <td>1503.0</td>\n",
              "      <td>3700 W IRVING PARK ROA</td>\n",
              "      <td>04/23/2015</td>\n",
              "      <td>3</td>\n",
              "      <td>NaN</td>\n",
              "      <td>NaN</td>\n",
              "      <td>NaN</td>\n",
              "      <td>NaN</td>\n",
              "      <td>NaN</td>\n",
              "    </tr>\n",
              "  </tbody>\n",
              "</table>\n",
              "</div>\n",
              "    <div class=\"colab-df-buttons\">\n",
              "\n",
              "  <div class=\"colab-df-container\">\n",
              "    <button class=\"colab-df-convert\" onclick=\"convertToInteractive('df-a1a0fcb2-c6d8-43f0-b2eb-87d8efe1cae2')\"\n",
              "            title=\"Convert this dataframe to an interactive table.\"\n",
              "            style=\"display:none;\">\n",
              "\n",
              "  <svg xmlns=\"http://www.w3.org/2000/svg\" height=\"24px\" viewBox=\"0 -960 960 960\">\n",
              "    <path d=\"M120-120v-720h720v720H120Zm60-500h600v-160H180v160Zm220 220h160v-160H400v160Zm0 220h160v-160H400v160ZM180-400h160v-160H180v160Zm440 0h160v-160H620v160ZM180-180h160v-160H180v160Zm440 0h160v-160H620v160Z\"/>\n",
              "  </svg>\n",
              "    </button>\n",
              "\n",
              "  <style>\n",
              "    .colab-df-container {\n",
              "      display:flex;\n",
              "      gap: 12px;\n",
              "    }\n",
              "\n",
              "    .colab-df-convert {\n",
              "      background-color: #E8F0FE;\n",
              "      border: none;\n",
              "      border-radius: 50%;\n",
              "      cursor: pointer;\n",
              "      display: none;\n",
              "      fill: #1967D2;\n",
              "      height: 32px;\n",
              "      padding: 0 0 0 0;\n",
              "      width: 32px;\n",
              "    }\n",
              "\n",
              "    .colab-df-convert:hover {\n",
              "      background-color: #E2EBFA;\n",
              "      box-shadow: 0px 1px 2px rgba(60, 64, 67, 0.3), 0px 1px 3px 1px rgba(60, 64, 67, 0.15);\n",
              "      fill: #174EA6;\n",
              "    }\n",
              "\n",
              "    .colab-df-buttons div {\n",
              "      margin-bottom: 4px;\n",
              "    }\n",
              "\n",
              "    [theme=dark] .colab-df-convert {\n",
              "      background-color: #3B4455;\n",
              "      fill: #D2E3FC;\n",
              "    }\n",
              "\n",
              "    [theme=dark] .colab-df-convert:hover {\n",
              "      background-color: #434B5C;\n",
              "      box-shadow: 0px 1px 3px 1px rgba(0, 0, 0, 0.15);\n",
              "      filter: drop-shadow(0px 1px 2px rgba(0, 0, 0, 0.3));\n",
              "      fill: #FFFFFF;\n",
              "    }\n",
              "  </style>\n",
              "\n",
              "    <script>\n",
              "      const buttonEl =\n",
              "        document.querySelector('#df-a1a0fcb2-c6d8-43f0-b2eb-87d8efe1cae2 button.colab-df-convert');\n",
              "      buttonEl.style.display =\n",
              "        google.colab.kernel.accessAllowed ? 'block' : 'none';\n",
              "\n",
              "      async function convertToInteractive(key) {\n",
              "        const element = document.querySelector('#df-a1a0fcb2-c6d8-43f0-b2eb-87d8efe1cae2');\n",
              "        const dataTable =\n",
              "          await google.colab.kernel.invokeFunction('convertToInteractive',\n",
              "                                                    [key], {});\n",
              "        if (!dataTable) return;\n",
              "\n",
              "        const docLinkHtml = 'Like what you see? Visit the ' +\n",
              "          '<a target=\"_blank\" href=https://colab.research.google.com/notebooks/data_table.ipynb>data table notebook</a>'\n",
              "          + ' to learn more about interactive tables.';\n",
              "        element.innerHTML = '';\n",
              "        dataTable['output_type'] = 'display_data';\n",
              "        await google.colab.output.renderOutput(dataTable, element);\n",
              "        const docLink = document.createElement('div');\n",
              "        docLink.innerHTML = docLinkHtml;\n",
              "        element.appendChild(docLink);\n",
              "      }\n",
              "    </script>\n",
              "  </div>\n",
              "\n",
              "\n",
              "<div id=\"df-85bca44e-b449-4107-b22a-2e7b6a24bcb6\">\n",
              "  <button class=\"colab-df-quickchart\" onclick=\"quickchart('df-85bca44e-b449-4107-b22a-2e7b6a24bcb6')\"\n",
              "            title=\"Suggest charts\"\n",
              "            style=\"display:none;\">\n",
              "\n",
              "<svg xmlns=\"http://www.w3.org/2000/svg\" height=\"24px\"viewBox=\"0 0 24 24\"\n",
              "     width=\"24px\">\n",
              "    <g>\n",
              "        <path d=\"M19 3H5c-1.1 0-2 .9-2 2v14c0 1.1.9 2 2 2h14c1.1 0 2-.9 2-2V5c0-1.1-.9-2-2-2zM9 17H7v-7h2v7zm4 0h-2V7h2v10zm4 0h-2v-4h2v4z\"/>\n",
              "    </g>\n",
              "</svg>\n",
              "  </button>\n",
              "\n",
              "<style>\n",
              "  .colab-df-quickchart {\n",
              "      --bg-color: #E8F0FE;\n",
              "      --fill-color: #1967D2;\n",
              "      --hover-bg-color: #E2EBFA;\n",
              "      --hover-fill-color: #174EA6;\n",
              "      --disabled-fill-color: #AAA;\n",
              "      --disabled-bg-color: #DDD;\n",
              "  }\n",
              "\n",
              "  [theme=dark] .colab-df-quickchart {\n",
              "      --bg-color: #3B4455;\n",
              "      --fill-color: #D2E3FC;\n",
              "      --hover-bg-color: #434B5C;\n",
              "      --hover-fill-color: #FFFFFF;\n",
              "      --disabled-bg-color: #3B4455;\n",
              "      --disabled-fill-color: #666;\n",
              "  }\n",
              "\n",
              "  .colab-df-quickchart {\n",
              "    background-color: var(--bg-color);\n",
              "    border: none;\n",
              "    border-radius: 50%;\n",
              "    cursor: pointer;\n",
              "    display: none;\n",
              "    fill: var(--fill-color);\n",
              "    height: 32px;\n",
              "    padding: 0;\n",
              "    width: 32px;\n",
              "  }\n",
              "\n",
              "  .colab-df-quickchart:hover {\n",
              "    background-color: var(--hover-bg-color);\n",
              "    box-shadow: 0 1px 2px rgba(60, 64, 67, 0.3), 0 1px 3px 1px rgba(60, 64, 67, 0.15);\n",
              "    fill: var(--button-hover-fill-color);\n",
              "  }\n",
              "\n",
              "  .colab-df-quickchart-complete:disabled,\n",
              "  .colab-df-quickchart-complete:disabled:hover {\n",
              "    background-color: var(--disabled-bg-color);\n",
              "    fill: var(--disabled-fill-color);\n",
              "    box-shadow: none;\n",
              "  }\n",
              "\n",
              "  .colab-df-spinner {\n",
              "    border: 2px solid var(--fill-color);\n",
              "    border-color: transparent;\n",
              "    border-bottom-color: var(--fill-color);\n",
              "    animation:\n",
              "      spin 1s steps(1) infinite;\n",
              "  }\n",
              "\n",
              "  @keyframes spin {\n",
              "    0% {\n",
              "      border-color: transparent;\n",
              "      border-bottom-color: var(--fill-color);\n",
              "      border-left-color: var(--fill-color);\n",
              "    }\n",
              "    20% {\n",
              "      border-color: transparent;\n",
              "      border-left-color: var(--fill-color);\n",
              "      border-top-color: var(--fill-color);\n",
              "    }\n",
              "    30% {\n",
              "      border-color: transparent;\n",
              "      border-left-color: var(--fill-color);\n",
              "      border-top-color: var(--fill-color);\n",
              "      border-right-color: var(--fill-color);\n",
              "    }\n",
              "    40% {\n",
              "      border-color: transparent;\n",
              "      border-right-color: var(--fill-color);\n",
              "      border-top-color: var(--fill-color);\n",
              "    }\n",
              "    60% {\n",
              "      border-color: transparent;\n",
              "      border-right-color: var(--fill-color);\n",
              "    }\n",
              "    80% {\n",
              "      border-color: transparent;\n",
              "      border-right-color: var(--fill-color);\n",
              "      border-bottom-color: var(--fill-color);\n",
              "    }\n",
              "    90% {\n",
              "      border-color: transparent;\n",
              "      border-bottom-color: var(--fill-color);\n",
              "    }\n",
              "  }\n",
              "</style>\n",
              "\n",
              "  <script>\n",
              "    async function quickchart(key) {\n",
              "      const quickchartButtonEl =\n",
              "        document.querySelector('#' + key + ' button');\n",
              "      quickchartButtonEl.disabled = true;  // To prevent multiple clicks.\n",
              "      quickchartButtonEl.classList.add('colab-df-spinner');\n",
              "      try {\n",
              "        const charts = await google.colab.kernel.invokeFunction(\n",
              "            'suggestCharts', [key], {});\n",
              "      } catch (error) {\n",
              "        console.error('Error during call to suggestCharts:', error);\n",
              "      }\n",
              "      quickchartButtonEl.classList.remove('colab-df-spinner');\n",
              "      quickchartButtonEl.classList.add('colab-df-quickchart-complete');\n",
              "    }\n",
              "    (() => {\n",
              "      let quickchartButtonEl =\n",
              "        document.querySelector('#df-85bca44e-b449-4107-b22a-2e7b6a24bcb6 button');\n",
              "      quickchartButtonEl.style.display =\n",
              "        google.colab.kernel.accessAllowed ? 'block' : 'none';\n",
              "    })();\n",
              "  </script>\n",
              "</div>\n",
              "\n",
              "    </div>\n",
              "  </div>\n"
            ],
            "text/plain": [
              "                 INTERSECTION  CAMERA ID                 ADDRESS  \\\n",
              "0  IRVING PARK AND KILPATRICK     2763.0  4700 W IRVING PARK ROA   \n",
              "1       VAN BUREN AND WESTERN     2054.0  2400 W VAN BUREN STREE   \n",
              "2           115TH AND HALSTED     2552.0   11500 S HALSTED STREE   \n",
              "3  IRVING PARK AND KILPATRICK     2764.0  4700 W IRVING PARK ROA   \n",
              "4      ELSTON AND IRVING PARK     1503.0  3700 W IRVING PARK ROA   \n",
              "\n",
              "  VIOLATION DATE  VIOLATIONS  X COORDINATE  Y COORDINATE  LATITUDE  LONGITUDE  \\\n",
              "0     04/09/2015           4           NaN           NaN       NaN        NaN   \n",
              "1     04/14/2015           5           NaN           NaN       NaN        NaN   \n",
              "2     04/08/2015           5           NaN           NaN       NaN        NaN   \n",
              "3     04/19/2015           4           NaN           NaN       NaN        NaN   \n",
              "4     04/23/2015           3           NaN           NaN       NaN        NaN   \n",
              "\n",
              "  LOCATION  \n",
              "0      NaN  \n",
              "1      NaN  \n",
              "2      NaN  \n",
              "3      NaN  \n",
              "4      NaN  "
            ]
          },
          "execution_count": 49,
          "metadata": {},
          "output_type": "execute_result"
        }
      ],
      "source": [
        "file_path = '/content/drive/MyDrive/Colab Notebooks/Red_Light_Camera_Violations.csv'\n",
        "df = pd.read_csv(file_path)\n",
        "df.head()"
      ]
    },
    {
      "cell_type": "code",
      "execution_count": null,
      "metadata": {
        "colab": {
          "base_uri": "https://localhost:8080/"
        },
        "id": "eij3V9unUXoG",
        "outputId": "50b68951-4f1b-487d-ab7c-ce6854101189"
      },
      "outputs": [
        {
          "name": "stdout",
          "output_type": "stream",
          "text": [
            "<class 'pandas.core.frame.DataFrame'>\n",
            "RangeIndex: 957577 entries, 0 to 957576\n",
            "Data columns (total 10 columns):\n",
            " #   Column          Non-Null Count   Dtype  \n",
            "---  ------          --------------   -----  \n",
            " 0   INTERSECTION    957577 non-null  object \n",
            " 1   CAMERA ID       957288 non-null  float64\n",
            " 2   ADDRESS         957577 non-null  object \n",
            " 3   VIOLATION DATE  957577 non-null  object \n",
            " 4   VIOLATIONS      957577 non-null  int64  \n",
            " 5   X COORDINATE    907560 non-null  float64\n",
            " 6   Y COORDINATE    907560 non-null  float64\n",
            " 7   LATITUDE        907560 non-null  float64\n",
            " 8   LONGITUDE       907560 non-null  float64\n",
            " 9   LOCATION        907560 non-null  object \n",
            "dtypes: float64(5), int64(1), object(4)\n",
            "memory usage: 73.1+ MB\n"
          ]
        }
      ],
      "source": [
        "df.info()"
      ]
    },
    {
      "cell_type": "code",
      "execution_count": null,
      "metadata": {
        "colab": {
          "base_uri": "https://localhost:8080/"
        },
        "id": "YBtlXbtgUa12",
        "outputId": "4277f9ae-f54d-4746-e1e4-0cb35e3302c8"
      },
      "outputs": [
        {
          "data": {
            "text/plain": [
              "INTERSECTION          0\n",
              "CAMERA ID           289\n",
              "ADDRESS               0\n",
              "VIOLATION DATE        0\n",
              "VIOLATIONS            0\n",
              "X COORDINATE      50017\n",
              "Y COORDINATE      50017\n",
              "LATITUDE          50017\n",
              "LONGITUDE         50017\n",
              "LOCATION          50017\n",
              "dtype: int64"
            ]
          },
          "execution_count": 51,
          "metadata": {},
          "output_type": "execute_result"
        }
      ],
      "source": [
        "df.isnull().sum()"
      ]
    },
    {
      "cell_type": "code",
      "execution_count": null,
      "metadata": {
        "colab": {
          "base_uri": "https://localhost:8080/"
        },
        "id": "q4VMbWy_UxF3",
        "outputId": "0e407c7e-9abd-4f77-b572-2ab32c5d6c80"
      },
      "outputs": [
        {
          "data": {
            "text/plain": [
              "Index(['INTERSECTION', 'CAMERA ID', 'ADDRESS', 'VIOLATION DATE', 'VIOLATIONS',\n",
              "       'X COORDINATE', 'Y COORDINATE', 'LATITUDE', 'LONGITUDE', 'LOCATION'],\n",
              "      dtype='object')"
            ]
          },
          "execution_count": 52,
          "metadata": {},
          "output_type": "execute_result"
        }
      ],
      "source": [
        "df.columns"
      ]
    },
    {
      "cell_type": "code",
      "execution_count": null,
      "metadata": {
        "colab": {
          "base_uri": "https://localhost:8080/"
        },
        "id": "JZ3GuuPhUeY9",
        "outputId": "5d7fc688-a6b7-437e-8e70-498c5bb5fbfc"
      },
      "outputs": [
        {
          "data": {
            "text/plain": [
              "LOCATION\n",
              "(41.86726309836901, -87.64697268601648)     7189\n",
              "(41.98564979859328, -87.65533580655139)     7123\n",
              "(41.903298792681944, -87.67738324739636)    7075\n",
              "(41.92519388981048, -87.66829436339881)     7022\n",
              "(41.94616352362556, -87.74721516897007)     6979\n",
              "                                            ... \n",
              "(41.96105580370759, -87.72789120598296)      131\n",
              "(41.77957043618697, -87.66429387512882)      126\n",
              "(41.97525809526954, -87.75199055715778)      115\n",
              "(41.801257491998776, -87.68428111564593)     107\n",
              "(41.87619197518567, -87.68633785193599)        1\n",
              "Name: count, Length: 297, dtype: int64"
            ]
          },
          "execution_count": 53,
          "metadata": {},
          "output_type": "execute_result"
        }
      ],
      "source": [
        "df['LOCATION'].value_counts()"
      ]
    },
    {
      "cell_type": "code",
      "execution_count": null,
      "metadata": {
        "colab": {
          "base_uri": "https://localhost:8080/"
        },
        "id": "9JZ2U-8BVrv3",
        "outputId": "943b2668-6132-474e-eefb-790329c1c757"
      },
      "outputs": [
        {
          "data": {
            "text/plain": [
              "INTERSECTION          0\n",
              "CAMERA ID           289\n",
              "ADDRESS               0\n",
              "VIOLATION DATE        0\n",
              "VIOLATIONS            0\n",
              "X COORDINATE      50017\n",
              "Y COORDINATE      50017\n",
              "LATITUDE          50017\n",
              "LONGITUDE         50017\n",
              "LOCATION          50017\n",
              "dtype: int64"
            ]
          },
          "execution_count": 54,
          "metadata": {},
          "output_type": "execute_result"
        }
      ],
      "source": [
        "df.isnull().sum()"
      ]
    },
    {
      "cell_type": "code",
      "execution_count": null,
      "metadata": {
        "colab": {
          "base_uri": "https://localhost:8080/"
        },
        "id": "PCncbmFEVuzd",
        "outputId": "19d03649-6a03-408f-a1b3-90ca0aa064af"
      },
      "outputs": [
        {
          "name": "stdout",
          "output_type": "stream",
          "text": [
            "<class 'pandas.core.frame.DataFrame'>\n",
            "RangeIndex: 957577 entries, 0 to 957576\n",
            "Data columns (total 10 columns):\n",
            " #   Column          Non-Null Count   Dtype  \n",
            "---  ------          --------------   -----  \n",
            " 0   INTERSECTION    957577 non-null  object \n",
            " 1   CAMERA ID       957288 non-null  float64\n",
            " 2   ADDRESS         957577 non-null  object \n",
            " 3   VIOLATION DATE  957577 non-null  object \n",
            " 4   VIOLATIONS      957577 non-null  int64  \n",
            " 5   X COORDINATE    907560 non-null  float64\n",
            " 6   Y COORDINATE    907560 non-null  float64\n",
            " 7   LATITUDE        907560 non-null  float64\n",
            " 8   LONGITUDE       907560 non-null  float64\n",
            " 9   LOCATION        907560 non-null  object \n",
            "dtypes: float64(5), int64(1), object(4)\n",
            "memory usage: 73.1+ MB\n"
          ]
        }
      ],
      "source": [
        "df.info()"
      ]
    },
    {
      "cell_type": "code",
      "execution_count": null,
      "metadata": {
        "id": "cGexPpObVz8l"
      },
      "outputs": [],
      "source": [
        "df[\"CAMERA ID\"] = df[\"CAMERA ID\"].fillna(df[\"CAMERA ID\"].mean())"
      ]
    },
    {
      "cell_type": "code",
      "execution_count": null,
      "metadata": {
        "id": "vk9yt3LDWBYV"
      },
      "outputs": [],
      "source": [
        "df[\"X COORDINATE\"] = df[\"X COORDINATE\"].fillna(df[\"X COORDINATE\"].mean())"
      ]
    },
    {
      "cell_type": "code",
      "execution_count": null,
      "metadata": {
        "id": "_qW7oATDWBjs"
      },
      "outputs": [],
      "source": [
        "df[\"Y COORDINATE\"] = df[\"Y COORDINATE\"].fillna(df[\"Y COORDINATE\"].mean())"
      ]
    },
    {
      "cell_type": "code",
      "execution_count": null,
      "metadata": {
        "id": "MFYDug63WBrt"
      },
      "outputs": [],
      "source": [
        "df[\"LATITUDE\"] = df[\"LATITUDE\"].fillna(df[\"LATITUDE\"].mean())"
      ]
    },
    {
      "cell_type": "code",
      "execution_count": null,
      "metadata": {
        "id": "Tq3cydiwWBz3"
      },
      "outputs": [],
      "source": [
        "df[\"LONGITUDE\"] = df[\"LONGITUDE\"].fillna(df[\"LONGITUDE\"].mean())"
      ]
    },
    {
      "cell_type": "code",
      "execution_count": null,
      "metadata": {
        "id": "d5RvXPOrWB8-"
      },
      "outputs": [],
      "source": [
        "df[\"LOCATION\"]=df[\"LOCATION\"].fillna(\"(41.86726309836901, -87.64697268601648)\")"
      ]
    },
    {
      "cell_type": "code",
      "execution_count": null,
      "metadata": {
        "colab": {
          "base_uri": "https://localhost:8080/"
        },
        "id": "xUlN-h85WnAt",
        "outputId": "8efa66d9-3b6e-4a70-d584-92601d78efab"
      },
      "outputs": [
        {
          "data": {
            "text/plain": [
              "INTERSECTION      0\n",
              "CAMERA ID         0\n",
              "ADDRESS           0\n",
              "VIOLATION DATE    0\n",
              "VIOLATIONS        0\n",
              "X COORDINATE      0\n",
              "Y COORDINATE      0\n",
              "LATITUDE          0\n",
              "LONGITUDE         0\n",
              "LOCATION          0\n",
              "dtype: int64"
            ]
          },
          "execution_count": 62,
          "metadata": {},
          "output_type": "execute_result"
        }
      ],
      "source": [
        "df.isnull().sum()"
      ]
    },
    {
      "cell_type": "code",
      "execution_count": null,
      "metadata": {
        "colab": {
          "base_uri": "https://localhost:8080/"
        },
        "id": "nwhd9lhrWp5e",
        "outputId": "177de176-3a70-463f-bea6-7c95914396cf"
      },
      "outputs": [
        {
          "data": {
            "text/plain": [
              "0"
            ]
          },
          "execution_count": 63,
          "metadata": {},
          "output_type": "execute_result"
        }
      ],
      "source": [
        "df.duplicated().sum()"
      ]
    },
    {
      "cell_type": "code",
      "execution_count": null,
      "metadata": {
        "colab": {
          "base_uri": "https://localhost:8080/"
        },
        "id": "RnX6W7liWvJ7",
        "outputId": "3e7b586d-f440-4e8f-c8ea-6c07369b5788"
      },
      "outputs": [
        {
          "data": {
            "text/plain": [
              "Index(['INTERSECTION', 'CAMERA ID', 'ADDRESS', 'VIOLATION DATE', 'VIOLATIONS',\n",
              "       'X COORDINATE', 'Y COORDINATE', 'LATITUDE', 'LONGITUDE', 'LOCATION'],\n",
              "      dtype='object')"
            ]
          },
          "execution_count": 64,
          "metadata": {},
          "output_type": "execute_result"
        }
      ],
      "source": [
        "df.columns"
      ]
    },
    {
      "cell_type": "code",
      "execution_count": null,
      "metadata": {
        "colab": {
          "background_save": true
        },
        "id": "crW7Cr4YW9Tg",
        "outputId": "ceabdd11-fb88-4e28-90a8-14d599af2cba"
      },
      "outputs": [],
      "source": [
        "fig = px.histogram(df,x=\"INTERSECTION\" , y=\"VIOLATIONS\" ,  color_discrete_sequence=['red'], nbins=10, height=650)\n",
        "fig.update_layout(\n",
        "    title_text=\"Distribution of VIOLATIONS by INTERSECTION\",\n",
        "    xaxis_title=\"INTERSECTION\",\n",
        "    yaxis_title=\"VIOLATIONS\"\n",
        ")\n",
        "fig.show()"
      ]
    },
    {
      "cell_type": "code",
      "execution_count": null,
      "metadata": {
        "colab": {
          "background_save": true
        },
        "id": "s_gPewfSXG4f",
        "outputId": "def2d8e4-1ba3-4a65-b715-f1c0952001a3"
      },
      "outputs": [],
      "source": [
        "fig = px.histogram(df,x=\"CAMERA ID\" , y=\"VIOLATIONS\" ,  color_discrete_sequence=['red'], nbins=10, height=650)\n",
        "fig.update_layout(\n",
        "    title_text=\"Distribution of VIOLATIONS by CAMERA ID\",\n",
        "    xaxis_title=\"CAMERA ID\",\n",
        "    yaxis_title=\"VIOLATIONS\"\n",
        ")\n",
        "fig.show()"
      ]
    },
    {
      "cell_type": "code",
      "execution_count": null,
      "metadata": {
        "colab": {
          "background_save": true
        },
        "id": "HAn6nQsAXPJ0",
        "outputId": "c3f2a809-aae6-4090-80bd-72324ad5960d"
      },
      "outputs": [],
      "source": [
        "fig = px.histogram(df,x=\"ADDRESS\" , y=\"VIOLATIONS\" ,  color_discrete_sequence=['red'], nbins=10, height=650)\n",
        "fig.update_layout(\n",
        "    title_text=\"Distribution of VIOLATIONS by ADDRESS\",\n",
        "    xaxis_title=\"ADDRESS\",\n",
        "    yaxis_title=\"VIOLATIONS\"\n",
        ")\n",
        "fig.show()"
      ]
    },
    {
      "cell_type": "code",
      "execution_count": null,
      "metadata": {
        "colab": {
          "background_save": true
        },
        "id": "wkrqXJl1XUGE",
        "outputId": "52c48459-93a2-44e9-80ab-0fa90c33d47c"
      },
      "outputs": [],
      "source": [
        "fig = px.histogram(df,x=\"VIOLATION DATE\" , y=\"VIOLATIONS\" ,  color_discrete_sequence=['red'], nbins=10, height=650)\n",
        "fig.update_layout(\n",
        "    title_text=\"Distribution of VIOLATIONS by VIOLATION DATE\",\n",
        "    xaxis_title=\"VIOLATION DATE\",\n",
        "    yaxis_title=\"VIOLATIONS\"\n",
        ")\n",
        "fig.show()"
      ]
    },
    {
      "cell_type": "code",
      "execution_count": null,
      "metadata": {
        "colab": {
          "background_save": true
        },
        "id": "0oK0-Gw6Xcad",
        "outputId": "6705d701-7bad-4b49-b0f6-b67b5741cd7e"
      },
      "outputs": [],
      "source": [
        "fig = px.histogram(df,x=\"X COORDINATE\" , y=\"VIOLATIONS\" ,  color_discrete_sequence=['red'], nbins=10, height=650)\n",
        "fig.update_layout(\n",
        "    title_text=\"Distribution of VIOLATIONS by X COORDINATE\",\n",
        "    xaxis_title=\"X COORDINATE\",\n",
        "    yaxis_title=\"VIOLATIONS\"\n",
        ")\n",
        "fig.show()"
      ]
    },
    {
      "cell_type": "code",
      "execution_count": null,
      "metadata": {
        "id": "zOq1ji8-Xc_m"
      },
      "outputs": [],
      "source": [
        "fig = px.histogram(df,x=\"Y COORDINATE\" , y=\"VIOLATIONS\" ,  color_discrete_sequence=['red'], nbins=10, height=650)\n",
        "fig.update_layout(\n",
        "    title_text=\"Distribution of VIOLATIONS by Y COORDINATE\",\n",
        "    xaxis_title=\"Y COORDINATE\",\n",
        "    yaxis_title=\"VIOLATIONS\"\n",
        ")\n",
        "fig.show()"
      ]
    },
    {
      "cell_type": "code",
      "execution_count": null,
      "metadata": {
        "id": "1n8GC1VhXtU8"
      },
      "outputs": [],
      "source": [
        "fig = px.histogram(df,x=\"LATITUDE\" , y=\"VIOLATIONS\" ,  color_discrete_sequence=['red'], nbins=10, height=650)\n",
        "fig.update_layout(\n",
        "    title_text=\"Distribution of VIOLATIONS by LATITUDE\",\n",
        "    xaxis_title=\"LATITUDE\",\n",
        "    yaxis_title=\"VIOLATIONS\"\n",
        ")\n",
        "fig.show()"
      ]
    },
    {
      "cell_type": "code",
      "execution_count": null,
      "metadata": {
        "id": "HQV_HVS7X08y"
      },
      "outputs": [],
      "source": [
        "fig = px.histogram(df,x=\"LONGITUDE\" , y=\"VIOLATIONS\" ,  color_discrete_sequence=['red'], nbins=10, height=650)\n",
        "fig.update_layout(\n",
        "    title_text=\"Distribution of VIOLATIONS by LONGITUDE\",\n",
        "    xaxis_title=\"LONGITUDE\",\n",
        "    yaxis_title=\"VIOLATIONS\"\n",
        ")\n",
        "fig.show()"
      ]
    },
    {
      "cell_type": "code",
      "execution_count": null,
      "metadata": {
        "id": "fNZBdvlsX6bb"
      },
      "outputs": [],
      "source": [
        "fig = px.histogram(df,x=\"LOCATION\" , y=\"VIOLATIONS\" ,  color_discrete_sequence=['red'], nbins=10, height=650)\n",
        "fig.update_layout(\n",
        "    title_text=\"Distribution of VIOLATIONS by LOCATION\",\n",
        "    xaxis_title=\"LOCATION\",\n",
        "    yaxis_title=\"VIOLATIONS\"\n",
        ")\n",
        "fig.show()"
      ]
    },
    {
      "cell_type": "code",
      "execution_count": null,
      "metadata": {
        "id": "p1O6o8esYX4r"
      },
      "outputs": [],
      "source": [
        "df.columns"
      ]
    },
    {
      "cell_type": "code",
      "execution_count": null,
      "metadata": {
        "id": "kFLh8QNBYUvg"
      },
      "outputs": [],
      "source": [
        "df_pivot = df.pivot_table(index='VIOLATION DATE', columns='LATITUDE', values='LONGITUDE', aggfunc='mean').reset_index()\n",
        "fig = px.area(df_pivot, x='VIOLATION DATE', y=df_pivot.columns[1:], height=400)\n",
        "fig.update_layout(\n",
        "    title_text=\"Distribution of LONGITUDE by LATITUDE Over the VIOLATION DATE\",\n",
        "    xaxis_title=\"VIOLATION DATE\",\n",
        "    yaxis_title=\"LONGITUDE\",\n",
        "    legend_title=\"LATITUDE\"\n",
        ")\n",
        "fig.show()"
      ]
    }
  ],
  "metadata": {
    "colab": {
      "provenance": []
    },
    "kernelspec": {
      "display_name": "Python 3",
      "name": "python3"
    },
    "language_info": {
      "name": "python"
    }
  },
  "nbformat": 4,
  "nbformat_minor": 0
}