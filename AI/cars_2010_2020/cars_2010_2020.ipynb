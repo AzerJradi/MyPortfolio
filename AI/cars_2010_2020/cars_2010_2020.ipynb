{
  "cells": [
    {
      "cell_type": "code",
      "execution_count": null,
      "metadata": {
        "colab": {
          "background_save": true
        },
        "id": "vm8oo02zhuR7"
      },
      "outputs": [],
      "source": [
        "from google.colab import drive\n",
        "drive.mount('/content/drive')"
      ]
    },
    {
      "cell_type": "code",
      "execution_count": null,
      "metadata": {
        "colab": {
          "background_save": true
        },
        "id": "ykTjfrNxh2p0"
      },
      "outputs": [],
      "source": [
        "import pandas as pd\n",
        "import plotly.express as px\n",
        "import numpy as np\n",
        "import lightgbm as lgb\n",
        "from sklearn.preprocessing import PolynomialFeatures\n",
        "from sklearn.ensemble import GradientBoostingRegressor\n",
        "from sklearn.linear_model import LinearRegression\n",
        "from sklearn.svm import SVC\n",
        "from sklearn.svm import SVR\n",
        "from sklearn.metrics import mean_squared_error, r2_score\n",
        "from sklearn.ensemble import GradientBoostingClassifier\n",
        "from sklearn.preprocessing import LabelEncoder\n",
        "from sklearn.metrics import accuracy_score, confusion_matrix, classification_report\n",
        "from sklearn.model_selection import train_test_split\n",
        "from sklearn.linear_model import LogisticRegression\n",
        "import seaborn as sns\n",
        "from sklearn.neighbors import KNeighborsClassifier\n",
        "import matplotlib.pyplot as plt\n",
        "from sklearn.metrics import roc_curve, auc\n",
        "from sklearn.tree import DecisionTreeClassifier\n",
        "from sklearn.tree import export_graphviz\n",
        "import graphviz\n",
        "from sklearn.ensemble import RandomForestClassifier\n",
        "from sklearn.tree import export_text\n",
        "from sklearn.tree import plot_tree\n",
        "from sklearn.datasets import load_iris\n",
        "from sklearn.preprocessing import label_binarize\n",
        "import pickle\n",
        "from sklearn.preprocessing import PolynomialFeatures, OneHotEncoder\n",
        "from sklearn.compose import ColumnTransformer\n",
        "from sklearn.pipeline import Pipeline"
      ]
    },
    {
      "cell_type": "code",
      "execution_count": null,
      "metadata": {
        "colab": {
          "background_save": true
        },
        "id": "rvK8p0aHiJ4s"
      },
      "outputs": [],
      "source": [
        "file_path = '/content/drive/MyDrive/Colab Notebooks/cars_2010_2020.csv'\n",
        "df = pd.read_csv(file_path)\n",
        "df.head()"
      ]
    },
    {
      "cell_type": "code",
      "execution_count": null,
      "metadata": {
        "colab": {
          "background_save": true
        },
        "id": "jTc6_EPQifI7"
      },
      "outputs": [],
      "source": [
        "df.isnull().sum()"
      ]
    },
    {
      "cell_type": "code",
      "execution_count": null,
      "metadata": {
        "colab": {
          "background_save": true
        },
        "id": "TWWNHFPIijrL"
      },
      "outputs": [],
      "source": [
        "df.duplicated().sum()"
      ]
    },
    {
      "cell_type": "code",
      "execution_count": null,
      "metadata": {
        "colab": {
          "background_save": true
        },
        "id": "C7GyZoqIil-k"
      },
      "outputs": [],
      "source": [
        "df.info()"
      ]
    },
    {
      "cell_type": "code",
      "execution_count": null,
      "metadata": {
        "colab": {
          "background_save": true
        },
        "id": "KT4BaOZxioZV"
      },
      "outputs": [],
      "source": [
        "df[\"Make\"].value_counts()"
      ]
    },
    {
      "cell_type": "code",
      "execution_count": null,
      "metadata": {
        "colab": {
          "background_save": true
        },
        "id": "mfjBkrUpitYE"
      },
      "outputs": [],
      "source": [
        "df[\"Model\"].value_counts()"
      ]
    },
    {
      "cell_type": "code",
      "execution_count": null,
      "metadata": {
        "colab": {
          "background_save": true
        },
        "id": "BuYZzCMfiwzS"
      },
      "outputs": [],
      "source": [
        "df['Year'].value_counts()"
      ]
    },
    {
      "cell_type": "code",
      "execution_count": null,
      "metadata": {
        "colab": {
          "background_save": true
        },
        "id": "FRy-6Xa4i49O"
      },
      "outputs": [],
      "source": [
        "df[\"Engine Size (L)\"].value_counts()"
      ]
    },
    {
      "cell_type": "code",
      "execution_count": null,
      "metadata": {
        "colab": {
          "background_save": true
        },
        "id": "TGlD1ANzjHVs"
      },
      "outputs": [],
      "source": [
        "df[\"Fuel Type\"].value_counts()"
      ]
    },
    {
      "cell_type": "code",
      "execution_count": null,
      "metadata": {
        "colab": {
          "background_save": true
        },
        "id": "TTEyv3HUjNJU"
      },
      "outputs": [],
      "source": [
        "df[\"Price (USD)\"].value_counts()"
      ]
    },
    {
      "cell_type": "code",
      "execution_count": null,
      "metadata": {
        "colab": {
          "background_save": true
        },
        "id": "aXcVWifbjCB1"
      },
      "outputs": [],
      "source": [
        "df.columns"
      ]
    },
    {
      "cell_type": "code",
      "execution_count": null,
      "metadata": {
        "colab": {
          "background_save": true
        },
        "id": "ea6vYhmRjXPz"
      },
      "outputs": [],
      "source": [
        "df_genre_sales = df.groupby('Make')['Price (USD)'].sum().reset_index()\n",
        "fig = px.pie(df_genre_sales, values='Price (USD)', names='Make', height=400)\n",
        "fig.update_layout(\n",
        "    title_text=\"Distribution of Make by Price\",\n",
        "    showlegend=True\n",
        ")\n",
        "\n",
        "fig.show()\n"
      ]
    },
    {
      "cell_type": "code",
      "execution_count": null,
      "metadata": {
        "colab": {
          "background_save": true
        },
        "id": "owbI29oWj_Gc"
      },
      "outputs": [],
      "source": [
        "df_genre_sales = df.groupby('Year')['Price (USD)'].sum().reset_index()\n",
        "fig = px.pie(df_genre_sales, values='Price (USD)', names='Year', height=400)\n",
        "fig.update_layout(\n",
        "    title_text=\"Distribution of Year by Price\",\n",
        "    showlegend=True\n",
        ")\n",
        "\n",
        "fig.show()\n"
      ]
    },
    {
      "cell_type": "code",
      "execution_count": null,
      "metadata": {
        "colab": {
          "background_save": true
        },
        "id": "OGUBN3-dkOhE"
      },
      "outputs": [],
      "source": [
        "fig = px.histogram(df,x=\"Engine Size (L)\" , y=\"Price (USD)\" ,  color_discrete_sequence=['red'], nbins=10, height=500)\n",
        "fig.update_layout(\n",
        "    title_text=\"Distribution of Price by Engine Size (L)\",\n",
        "    xaxis_title=\"Engine Size (L)\",\n",
        "    yaxis_title=\"Price\",\n",
        ")\n",
        "fig.show()"
      ]
    },
    {
      "cell_type": "code",
      "execution_count": null,
      "metadata": {
        "colab": {
          "background_save": true
        },
        "id": "eBd_1iBfjeCN"
      },
      "outputs": [],
      "source": [
        "fig = px.histogram(df,x=\"Model\" , y=\"Price (USD)\" ,  color_discrete_sequence=['red'], nbins=10, height=500)\n",
        "fig.update_layout(\n",
        "    title_text=\"Distribution of Price by Model\",\n",
        "    xaxis_title=\"Model\",\n",
        "    yaxis_title=\"Price\"\n",
        ")\n",
        "fig.show()"
      ]
    },
    {
      "cell_type": "code",
      "execution_count": null,
      "metadata": {
        "colab": {
          "background_save": true
        },
        "id": "0RISuXa1k80j"
      },
      "outputs": [],
      "source": [
        "df_genre_sales = df.groupby('Fuel Type')['Price (USD)'].sum().reset_index()\n",
        "fig = px.pie(df_genre_sales, values='Price (USD)', names='Fuel Type', height=400)\n",
        "fig.update_layout(\n",
        "    title_text=\"Distribution of Fuel Type by Price\",\n",
        "    showlegend=True\n",
        ")\n",
        "\n",
        "fig.show()\n"
      ]
    },
    {
      "cell_type": "code",
      "execution_count": null,
      "metadata": {
        "colab": {
          "background_save": true
        },
        "id": "lhSRr70slMoG"
      },
      "outputs": [],
      "source": [
        "df_pivot = df.pivot_table(index='Year', columns='Make', values='Price (USD)', aggfunc='sum').reset_index()\n",
        "fig = px.area(df_pivot, x='Year', y=df_pivot.columns[1:], height=600)\n",
        "fig.update_layout(\n",
        "    title_text=\"Distribution of Price by Make Over the Years\",\n",
        "    xaxis_title=\"Year\",\n",
        "    yaxis_title=\"Price (USD)\",\n",
        "    legend_title=\"Make\"\n",
        ")\n",
        "\n",
        "fig.show()"
      ]
    },
    {
      "cell_type": "code",
      "execution_count": null,
      "metadata": {
        "colab": {
          "background_save": true
        },
        "id": "HopGRZ9HlkXU"
      },
      "outputs": [],
      "source": [
        "df.info()"
      ]
    },
    {
      "cell_type": "code",
      "execution_count": null,
      "metadata": {
        "colab": {
          "background_save": true
        },
        "id": "gepvXgVVl7jM"
      },
      "outputs": [],
      "source": [
        "df.columns"
      ]
    },
    {
      "cell_type": "code",
      "execution_count": null,
      "metadata": {
        "colab": {
          "background_save": true
        },
        "id": "nO7JQa3Ul9HD"
      },
      "outputs": [],
      "source": [
        "features_to_encode = ['Make', 'Model','Engine Size (L)', 'Fuel Type', 'Price (USD)']\n",
        "encoder = LabelEncoder()\n",
        "for feature in features_to_encode:\n",
        "    df[feature] = encoder.fit_transform(df[feature])"
      ]
    },
    {
      "cell_type": "code",
      "execution_count": null,
      "metadata": {
        "colab": {
          "background_save": true
        },
        "id": "MazpuWcMmF8k"
      },
      "outputs": [],
      "source": [
        "df.info()"
      ]
    },
    {
      "cell_type": "code",
      "execution_count": null,
      "metadata": {
        "colab": {
          "background_save": true
        },
        "id": "vSmX0Pf4mJME"
      },
      "outputs": [],
      "source": [
        "feature_cols =['Make', 'Model', 'Year', 'Engine Size (L)', 'Fuel Type']\n",
        "X = df[feature_cols]\n",
        "y = df['Price (USD)']"
      ]
    },
    {
      "cell_type": "code",
      "execution_count": null,
      "metadata": {
        "colab": {
          "background_save": true
        },
        "id": "MC6pe2EtmYGu"
      },
      "outputs": [],
      "source": [
        "X_train, X_test, y_train, y_test = train_test_split(X, y, test_size=0.3, random_state=42)"
      ]
    },
    {
      "cell_type": "code",
      "execution_count": null,
      "metadata": {
        "colab": {
          "background_save": true
        },
        "id": "tsDjSwQH8ho1"
      },
      "outputs": [],
      "source": [
        "preprocessor = ColumnTransformer(\n",
        "    transformers=[\n",
        "        ('cat', OneHotEncoder(), feature_cols)\n",
        "    ])"
      ]
    },
    {
      "cell_type": "code",
      "execution_count": null,
      "metadata": {
        "colab": {
          "background_save": true
        },
        "id": "8SmKYzzf8hrY"
      },
      "outputs": [],
      "source": [
        "poly = PolynomialFeatures(degree=2, include_bias=False)"
      ]
    },
    {
      "cell_type": "code",
      "execution_count": null,
      "metadata": {
        "colab": {
          "background_save": true
        },
        "id": "WLlZszXn8hwJ"
      },
      "outputs": [],
      "source": [
        "pipeline = Pipeline(steps=[\n",
        "    ('preprocessor', preprocessor),\n",
        "    ('poly', poly),\n",
        "    ('model', LinearRegression())\n",
        "])"
      ]
    },
    {
      "cell_type": "code",
      "execution_count": null,
      "metadata": {
        "colab": {
          "background_save": true
        },
        "id": "YG8F2Vux8hy-"
      },
      "outputs": [],
      "source": [
        "X_train, X_test, y_train, y_test = train_test_split(X, y, test_size=0.2, random_state=42)"
      ]
    },
    {
      "cell_type": "code",
      "execution_count": null,
      "metadata": {
        "colab": {
          "background_save": true
        },
        "id": "txxNKMxu8h1y"
      },
      "outputs": [],
      "source": [
        "pipeline.fit(X_train, y_train)"
      ]
    },
    {
      "cell_type": "code",
      "execution_count": null,
      "metadata": {
        "colab": {
          "background_save": true
        },
        "id": "g8cLUEdB8h4g"
      },
      "outputs": [],
      "source": [
        "y_pred = pipeline.predict(X_test)"
      ]
    },
    {
      "cell_type": "code",
      "execution_count": null,
      "metadata": {
        "colab": {
          "background_save": true
        },
        "id": "24pHY4Ip8h6x"
      },
      "outputs": [],
      "source": [
        "mean_y = np.mean(y_test)\n",
        "total_variance = np.sum((y_test - mean_y) ** 2)\n",
        "\n",
        "# Calculate residual sum of squares (RSS)\n",
        "residual_sum_of_squares = np.sum((y_test - y_pred) ** 2)\n",
        "\n",
        "# Calculate explained variance as a percentage\n",
        "explained_variance_percentage = (1 - residual_sum_of_squares / total_variance) * 100\n",
        "\n",
        "print(f'Explained Variance Percentage: {explained_variance_percentage:.2f}%')"
      ]
    },
    {
      "cell_type": "code",
      "execution_count": null,
      "metadata": {
        "colab": {
          "background_save": true
        },
        "id": "fkyLEEE28h9x"
      },
      "outputs": [],
      "source": [
        "lg = LogisticRegression()\n",
        "lg.fit(X_train, y_train)"
      ]
    },
    {
      "cell_type": "code",
      "execution_count": null,
      "metadata": {
        "colab": {
          "background_save": true
        },
        "id": "zdhgcpaX8iAZ"
      },
      "outputs": [],
      "source": [
        "y_predict= lg.predict(X_test)"
      ]
    },
    {
      "cell_type": "code",
      "execution_count": null,
      "metadata": {
        "colab": {
          "background_save": true
        },
        "id": "DAo0_jlp8iDC"
      },
      "outputs": [],
      "source": [
        "accuracy = accuracy_score(y_test, y_predict)\n",
        "accuracy_log_reg=accuracy*100\n",
        "print(accuracy_log_reg)"
      ]
    },
    {
      "cell_type": "code",
      "execution_count": null,
      "metadata": {
        "colab": {
          "background_save": true
        },
        "id": "Q7UxQPQu-K5Q"
      },
      "outputs": [],
      "source": [
        "y_prob = lg.predict_proba(X_test)[:, 1]"
      ]
    },
    {
      "cell_type": "code",
      "execution_count": null,
      "metadata": {
        "colab": {
          "background_save": true
        },
        "id": "G0vngz2o-K7r"
      },
      "outputs": [],
      "source": [
        "model = SVC()\n",
        "model.fit(X_train, y_train)"
      ]
    },
    {
      "cell_type": "code",
      "execution_count": null,
      "metadata": {
        "colab": {
          "background_save": true
        },
        "id": "ORZ4wpZP-K-T",
        "outputId": "8ea34189-fb94-4b66-f620-40373e6aaa7f"
      },
      "outputs": [
        {
          "ename": "KeyboardInterrupt",
          "evalue": "",
          "output_type": "error",
          "traceback": [
            "\u001b[0;31m---------------------------------------------------------------------------\u001b[0m",
            "\u001b[0;31mKeyboardInterrupt\u001b[0m                         Traceback (most recent call last)",
            "\u001b[0;32m<ipython-input-99-33f45f2977c2>\u001b[0m in \u001b[0;36m<cell line: 1>\u001b[0;34m()\u001b[0m\n\u001b[0;32m----> 1\u001b[0;31m \u001b[0my_pred\u001b[0m \u001b[0;34m=\u001b[0m \u001b[0mmodel\u001b[0m\u001b[0;34m.\u001b[0m\u001b[0mpredict\u001b[0m\u001b[0;34m(\u001b[0m\u001b[0mX_test\u001b[0m\u001b[0;34m)\u001b[0m\u001b[0;34m\u001b[0m\u001b[0;34m\u001b[0m\u001b[0m\n\u001b[0m",
            "\u001b[0;32m/usr/local/lib/python3.10/dist-packages/sklearn/svm/_base.py\u001b[0m in \u001b[0;36mpredict\u001b[0;34m(self, X)\u001b[0m\n\u001b[1;32m    816\u001b[0m             \u001b[0my\u001b[0m \u001b[0;34m=\u001b[0m \u001b[0mnp\u001b[0m\u001b[0;34m.\u001b[0m\u001b[0margmax\u001b[0m\u001b[0;34m(\u001b[0m\u001b[0mself\u001b[0m\u001b[0;34m.\u001b[0m\u001b[0mdecision_function\u001b[0m\u001b[0;34m(\u001b[0m\u001b[0mX\u001b[0m\u001b[0;34m)\u001b[0m\u001b[0;34m,\u001b[0m \u001b[0maxis\u001b[0m\u001b[0;34m=\u001b[0m\u001b[0;36m1\u001b[0m\u001b[0;34m)\u001b[0m\u001b[0;34m\u001b[0m\u001b[0;34m\u001b[0m\u001b[0m\n\u001b[1;32m    817\u001b[0m         \u001b[0;32melse\u001b[0m\u001b[0;34m:\u001b[0m\u001b[0;34m\u001b[0m\u001b[0;34m\u001b[0m\u001b[0m\n\u001b[0;32m--> 818\u001b[0;31m             \u001b[0my\u001b[0m \u001b[0;34m=\u001b[0m \u001b[0msuper\u001b[0m\u001b[0;34m(\u001b[0m\u001b[0;34m)\u001b[0m\u001b[0;34m.\u001b[0m\u001b[0mpredict\u001b[0m\u001b[0;34m(\u001b[0m\u001b[0mX\u001b[0m\u001b[0;34m)\u001b[0m\u001b[0;34m\u001b[0m\u001b[0;34m\u001b[0m\u001b[0m\n\u001b[0m\u001b[1;32m    819\u001b[0m         \u001b[0;32mreturn\u001b[0m \u001b[0mself\u001b[0m\u001b[0;34m.\u001b[0m\u001b[0mclasses_\u001b[0m\u001b[0;34m.\u001b[0m\u001b[0mtake\u001b[0m\u001b[0;34m(\u001b[0m\u001b[0mnp\u001b[0m\u001b[0;34m.\u001b[0m\u001b[0masarray\u001b[0m\u001b[0;34m(\u001b[0m\u001b[0my\u001b[0m\u001b[0;34m,\u001b[0m \u001b[0mdtype\u001b[0m\u001b[0;34m=\u001b[0m\u001b[0mnp\u001b[0m\u001b[0;34m.\u001b[0m\u001b[0mintp\u001b[0m\u001b[0;34m)\u001b[0m\u001b[0;34m)\u001b[0m\u001b[0;34m\u001b[0m\u001b[0;34m\u001b[0m\u001b[0m\n\u001b[1;32m    820\u001b[0m \u001b[0;34m\u001b[0m\u001b[0m\n",
            "\u001b[0;32m/usr/local/lib/python3.10/dist-packages/sklearn/svm/_base.py\u001b[0m in \u001b[0;36mpredict\u001b[0;34m(self, X)\u001b[0m\n\u001b[1;32m    431\u001b[0m         \u001b[0mX\u001b[0m \u001b[0;34m=\u001b[0m \u001b[0mself\u001b[0m\u001b[0;34m.\u001b[0m\u001b[0m_validate_for_predict\u001b[0m\u001b[0;34m(\u001b[0m\u001b[0mX\u001b[0m\u001b[0;34m)\u001b[0m\u001b[0;34m\u001b[0m\u001b[0;34m\u001b[0m\u001b[0m\n\u001b[1;32m    432\u001b[0m         \u001b[0mpredict\u001b[0m \u001b[0;34m=\u001b[0m \u001b[0mself\u001b[0m\u001b[0;34m.\u001b[0m\u001b[0m_sparse_predict\u001b[0m \u001b[0;32mif\u001b[0m \u001b[0mself\u001b[0m\u001b[0;34m.\u001b[0m\u001b[0m_sparse\u001b[0m \u001b[0;32melse\u001b[0m \u001b[0mself\u001b[0m\u001b[0;34m.\u001b[0m\u001b[0m_dense_predict\u001b[0m\u001b[0;34m\u001b[0m\u001b[0;34m\u001b[0m\u001b[0m\n\u001b[0;32m--> 433\u001b[0;31m         \u001b[0;32mreturn\u001b[0m \u001b[0mpredict\u001b[0m\u001b[0;34m(\u001b[0m\u001b[0mX\u001b[0m\u001b[0;34m)\u001b[0m\u001b[0;34m\u001b[0m\u001b[0;34m\u001b[0m\u001b[0m\n\u001b[0m\u001b[1;32m    434\u001b[0m \u001b[0;34m\u001b[0m\u001b[0m\n\u001b[1;32m    435\u001b[0m     \u001b[0;32mdef\u001b[0m \u001b[0m_dense_predict\u001b[0m\u001b[0;34m(\u001b[0m\u001b[0mself\u001b[0m\u001b[0;34m,\u001b[0m \u001b[0mX\u001b[0m\u001b[0;34m)\u001b[0m\u001b[0;34m:\u001b[0m\u001b[0;34m\u001b[0m\u001b[0;34m\u001b[0m\u001b[0m\n",
            "\u001b[0;32m/usr/local/lib/python3.10/dist-packages/sklearn/svm/_base.py\u001b[0m in \u001b[0;36m_dense_predict\u001b[0;34m(self, X)\u001b[0m\n\u001b[1;32m    450\u001b[0m         \u001b[0msvm_type\u001b[0m \u001b[0;34m=\u001b[0m \u001b[0mLIBSVM_IMPL\u001b[0m\u001b[0;34m.\u001b[0m\u001b[0mindex\u001b[0m\u001b[0;34m(\u001b[0m\u001b[0mself\u001b[0m\u001b[0;34m.\u001b[0m\u001b[0m_impl\u001b[0m\u001b[0;34m)\u001b[0m\u001b[0;34m\u001b[0m\u001b[0;34m\u001b[0m\u001b[0m\n\u001b[1;32m    451\u001b[0m \u001b[0;34m\u001b[0m\u001b[0m\n\u001b[0;32m--> 452\u001b[0;31m         return libsvm.predict(\n\u001b[0m\u001b[1;32m    453\u001b[0m             \u001b[0mX\u001b[0m\u001b[0;34m,\u001b[0m\u001b[0;34m\u001b[0m\u001b[0;34m\u001b[0m\u001b[0m\n\u001b[1;32m    454\u001b[0m             \u001b[0mself\u001b[0m\u001b[0;34m.\u001b[0m\u001b[0msupport_\u001b[0m\u001b[0;34m,\u001b[0m\u001b[0;34m\u001b[0m\u001b[0;34m\u001b[0m\u001b[0m\n",
            "\u001b[0;31mKeyboardInterrupt\u001b[0m: "
          ]
        }
      ],
      "source": [
        "y_pred = model.predict(X_test)"
      ]
    },
    {
      "cell_type": "code",
      "execution_count": null,
      "metadata": {
        "colab": {
          "background_save": true
        },
        "id": "4LCH5bI--LAo"
      },
      "outputs": [],
      "source": [
        "accuracySVM = accuracy_score(y_test, y_pred)*100\n",
        "print('SVM Accuracy: ', accuracySVM)"
      ]
    },
    {
      "cell_type": "code",
      "execution_count": null,
      "metadata": {
        "colab": {
          "background_save": true
        },
        "id": "7TzxEEjt-LDC"
      },
      "outputs": [],
      "source": [
        "model = KNeighborsClassifier(n_neighbors=5)\n",
        "model.fit(X_train, y_train)"
      ]
    },
    {
      "cell_type": "code",
      "execution_count": null,
      "metadata": {
        "colab": {
          "background_save": true
        },
        "id": "A0y3A1kM-LFc"
      },
      "outputs": [],
      "source": [
        "y_pred = model.predict(X_test)"
      ]
    },
    {
      "cell_type": "code",
      "execution_count": null,
      "metadata": {
        "colab": {
          "background_save": true
        },
        "id": "u5v7kLyH-LIB"
      },
      "outputs": [],
      "source": [
        "accuracyKNN = accuracy_score(y_test, y_pred)*100\n",
        "print('KNN Accuracy: ', accuracyKNN)"
      ]
    },
    {
      "cell_type": "code",
      "execution_count": null,
      "metadata": {
        "colab": {
          "background_save": true
        },
        "id": "xv3yNVyM-LK1"
      },
      "outputs": [],
      "source": [
        "model = SVR()\n",
        "model.fit(X_train, y_train)"
      ]
    },
    {
      "cell_type": "code",
      "execution_count": null,
      "metadata": {
        "colab": {
          "background_save": true
        },
        "id": "-turWWNs-LNa"
      },
      "outputs": [],
      "source": [
        "mape = np.mean(np.abs((y_test - y_pred) / y_test)) * 100\n",
        "accuracySVR = 100 - mape\n",
        "\n",
        "print(f'Accuracy: {accuracySVR:.2f}%')"
      ]
    },
    {
      "cell_type": "code",
      "execution_count": null,
      "metadata": {
        "colab": {
          "background_save": true
        },
        "id": "MworhF6L-LQF"
      },
      "outputs": [],
      "source": [
        "model = LinearRegression()\n",
        "model.fit(X_train, y_train)"
      ]
    },
    {
      "cell_type": "code",
      "execution_count": null,
      "metadata": {
        "colab": {
          "background_save": true
        },
        "id": "InAGMNVy-LSy"
      },
      "outputs": [],
      "source": [
        "y_pred = model.predict(X_test)"
      ]
    },
    {
      "cell_type": "code",
      "execution_count": null,
      "metadata": {
        "colab": {
          "background_save": true
        },
        "id": "YUckQ-NV-LV4"
      },
      "outputs": [],
      "source": [
        "mape = np.mean(np.abs((y_test - y_pred) / y_test)) * 100\n",
        "accuracyLN = 100 - mape\n",
        "print(f'Accuracy: {accuracyLN:.2f}%')"
      ]
    },
    {
      "cell_type": "code",
      "execution_count": null,
      "metadata": {
        "colab": {
          "background_save": true
        },
        "id": "oPm5LcCV-LYj"
      },
      "outputs": [],
      "source": [
        "model = SVR()\n",
        "model.fit(X_train, y_train)"
      ]
    },
    {
      "cell_type": "code",
      "execution_count": null,
      "metadata": {
        "colab": {
          "background_save": true
        },
        "id": "aCCtIg0S-LbO"
      },
      "outputs": [],
      "source": [
        "y_pred = model.predict(X_test)"
      ]
    },
    {
      "cell_type": "code",
      "execution_count": null,
      "metadata": {
        "colab": {
          "background_save": true
        },
        "id": "ZxnJUc3v-iSb"
      },
      "outputs": [],
      "source": [
        "mape = np.mean(np.abs((y_test - y_pred) / y_test)) * 100\n",
        "accuracySVR = 100 - mape\n",
        "\n",
        "print(f'Accuracy: {accuracySVR:.2f}%')"
      ]
    },
    {
      "cell_type": "code",
      "execution_count": null,
      "metadata": {
        "colab": {
          "background_save": true
        },
        "id": "_nObdXBP-iWm"
      },
      "outputs": [],
      "source": [
        "gb_model = GradientBoostingRegressor()\n",
        "gb_model.fit(X_train, y_train)"
      ]
    },
    {
      "cell_type": "code",
      "execution_count": null,
      "metadata": {
        "colab": {
          "background_save": true
        },
        "id": "2gGdRkr_-ibG"
      },
      "outputs": [],
      "source": [
        "y_pred = gb_model.predict(X_test)"
      ]
    },
    {
      "cell_type": "code",
      "execution_count": null,
      "metadata": {
        "colab": {
          "background_save": true
        },
        "id": "sLvBlOSP-idh"
      },
      "outputs": [],
      "source": [
        "mape = np.mean(np.abs((y_test - y_pred) / y_test)) * 100\n",
        "accuracyGradientBoostingRegressor = 100 - mape\n",
        "\n",
        "print(f'Accuracy: {accuracyGradientBoostingRegressor:.2f}%')"
      ]
    },
    {
      "cell_type": "code",
      "execution_count": null,
      "metadata": {
        "colab": {
          "background_save": true
        },
        "id": "GsGcrwlt-ige"
      },
      "outputs": [],
      "source": [
        "lgb_reg = lgb.LGBMRegressor()\n",
        "lgb_reg.fit(X_train, y_train)"
      ]
    },
    {
      "cell_type": "code",
      "execution_count": null,
      "metadata": {
        "colab": {
          "background_save": true
        },
        "id": "a0SwxKGR-ii4"
      },
      "outputs": [],
      "source": [
        "y_pred = lgb_reg.predict(X_test)"
      ]
    },
    {
      "cell_type": "code",
      "execution_count": null,
      "metadata": {
        "colab": {
          "background_save": true
        },
        "id": "P4jB-xJz-ilt"
      },
      "outputs": [],
      "source": [
        "def mean_absolute_percentage_error(y_true, y_pred):\n",
        "    return np.mean(np.abs((y_true - y_pred) / y_true)) * 100\n",
        "\n",
        "accuracyLGBMRegressor = 100 - mean_absolute_percentage_error(y_test, y_pred)\n",
        "print(f\"Accuracy: {accuracyLGBMRegressor:.2f}%\")"
      ]
    },
    {
      "cell_type": "code",
      "execution_count": null,
      "metadata": {
        "colab": {
          "background_save": true
        },
        "id": "oPqHM-Ln-ioL"
      },
      "outputs": [],
      "source": [
        "def compare_algorithms_accuracy(df, feature_cols, test_size=0.2, random_state=42):\n",
        "    allAcc = {'Logistic Regression Accuracy': accuracy_log_reg,\n",
        "      'polynominal regression':explained_variance_percentage,\n",
        "      'KNN accuracy':accuracyKNN,\n",
        "      'SVM accuracy':accuracySVM,\n",
        "      'accuracy SVR':accuracySVR,\n",
        "      'LinearRegression aaccuracy': accuracyLN,\n",
        "      'GradientBoostingRegressor accuracy':accuracyGradientBoostingRegressor,\n",
        "      'LGBMRegressor accuracy':accuracyLGBMRegressor,}\n",
        "\n",
        "    highest_accuracy = max(allAcc, key=allAcc.get)\n",
        "    return f\"The algorithm with the highest accuracy is: {highest_accuracy} with an accuracy of {allAcc[highest_accuracy]:.2f}%\"\n",
        "result = compare_algorithms_accuracy(df, feature_cols)\n",
        "print(result)"
      ]
    },
    {
      "cell_type": "code",
      "execution_count": null,
      "metadata": {
        "colab": {
          "background_save": true
        },
        "id": "6lUli3Kl-iq3"
      },
      "outputs": [],
      "source": [
        "with open('random_forest_model.pkl', 'wb') as file:\n",
        "    pickle.dump(rf_clf, file)"
      ]
    },
    {
      "cell_type": "code",
      "execution_count": null,
      "metadata": {
        "colab": {
          "background_save": true
        },
        "id": "5sqsN3Dw-itH"
      },
      "outputs": [],
      "source": []
    }
  ],
  "metadata": {
    "colab": {
      "provenance": []
    },
    "kernelspec": {
      "display_name": "Python 3",
      "name": "python3"
    },
    "language_info": {
      "name": "python"
    }
  },
  "nbformat": 4,
  "nbformat_minor": 0
}